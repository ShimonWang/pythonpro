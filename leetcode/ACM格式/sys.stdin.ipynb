{
 "cells": [
  {
   "cell_type": "code",
   "id": "initial_id",
   "metadata": {
    "ExecuteTime": {
     "end_time": "2025-08-22T14:50:29.899323Z",
     "start_time": "2025-08-22T14:50:29.896036Z"
    }
   },
   "source": [
    "# 参考链接 https://www.reddit.com/r/learnpython/comments/1fr7dlg/how_do_i_process_a_multiple_line_input_from_for/?tl=zh-hans\n",
    "data = \"\"\"1 2\n",
    "3 4\"\"\"\n",
    "nums = []  # 一个新的空列表，用于保存数字\n",
    "for line in data:  # 标准输入的每一行\n",
    "    for n in line.split():  # 一行中每个空格分隔的条目\n",
    "        nums.append(int(n))  # 将字符串转换为整数并添加到列表中\n",
    "print(nums)"
   ],
   "outputs": [
    {
     "name": "stdout",
     "output_type": "stream",
     "text": [
      "[1, 2, 3, 4]\n"
     ]
    }
   ],
   "execution_count": 5
  },
  {
   "metadata": {
    "ExecuteTime": {
     "end_time": "2025-08-22T14:52:36.862266Z",
     "start_time": "2025-08-22T14:51:28.741056Z"
    }
   },
   "cell_type": "code",
   "source": "",
   "id": "dcbcc1c14ee529c5",
   "outputs": [],
   "execution_count": null
  }
 ],
 "metadata": {
  "kernelspec": {
   "display_name": "Python 3",
   "language": "python",
   "name": "python3"
  },
  "language_info": {
   "codemirror_mode": {
    "name": "ipython",
    "version": 2
   },
   "file_extension": ".py",
   "mimetype": "text/x-python",
   "name": "python",
   "nbconvert_exporter": "python",
   "pygments_lexer": "ipython2",
   "version": "2.7.6"
  }
 },
 "nbformat": 4,
 "nbformat_minor": 5
}
